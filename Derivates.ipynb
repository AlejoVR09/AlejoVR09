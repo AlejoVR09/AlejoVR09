{
  "nbformat": 4,
  "nbformat_minor": 0,
  "metadata": {
    "colab": {
      "provenance": [],
      "authorship_tag": "ABX9TyOVyYFzCjRDMXArF/b8ZMju",
      "include_colab_link": true
    },
    "kernelspec": {
      "name": "python3",
      "display_name": "Python 3"
    },
    "language_info": {
      "name": "python"
    }
  },
  "cells": [
    {
      "cell_type": "markdown",
      "metadata": {
        "id": "view-in-github",
        "colab_type": "text"
      },
      "source": [
        "<a href=\"https://colab.research.google.com/github/AlejoVR09/AlejoVR09/blob/main/Derivates.ipynb\" target=\"_parent\"><img src=\"https://colab.research.google.com/assets/colab-badge.svg\" alt=\"Open In Colab\"/></a>"
      ]
    },
    {
      "cell_type": "code",
      "execution_count": 15,
      "metadata": {
        "colab": {
          "base_uri": "https://localhost:8080/",
          "height": 38
        },
        "id": "i9qCecNnzzO4",
        "outputId": "8b4748fa-540c-4e4e-e0d9-9520c1a5b6de"
      },
      "outputs": [
        {
          "output_type": "execute_result",
          "data": {
            "text/plain": [
              "   3          \n",
              "4⋅x  - 6⋅x = 0"
            ],
            "text/latex": "$\\displaystyle 4 x^{3} - 6 x = 0$"
          },
          "metadata": {},
          "execution_count": 15
        }
      ],
      "source": [
        "from sympy import *\n",
        "init_printing( use_latex='mathjax' )\n",
        "x = Symbol('x')\n",
        "expr = x**4 - 3*x**2\n",
        "# ^^ esta es nuestra expresion\n",
        "expr_d = Derivative(expr, x, evaluate=True)\n",
        "# ^^ esta es la derivada de nuestra expresion\n",
        "Eq(expr_d, 0)\n",
        "\n"
      ]
    }
  ]
}